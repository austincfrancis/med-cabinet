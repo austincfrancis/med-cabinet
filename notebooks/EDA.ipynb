{
 "cells": [
  {
   "cell_type": "markdown",
   "id": "sublime-auction",
   "metadata": {},
   "source": [
    "# Explore Cannabis Data"
   ]
  },
  {
   "cell_type": "code",
   "execution_count": 2,
   "id": "earned-elite",
   "metadata": {},
   "outputs": [],
   "source": [
    "# ALL IMPORTS\n",
    "import pandas as pd\n",
    "import pickle\n",
    "import spacy\n",
    "from sklearn.feature_extraction.text import TfidfVectorizer\n",
    "from sklearn.neighbors import NearestNeighbors\n",
    "import cloudpickle\n",
    "\n",
    "nlp = spacy.load(\"en_core_web_md\")"
   ]
  },
  {
   "cell_type": "code",
   "execution_count": 3,
   "id": "introductory-commerce",
   "metadata": {
    "collapsed": true
   },
   "outputs": [
    {
     "name": "stdout",
     "output_type": "stream",
     "text": [
      "Collecting en-core-web-md==3.0.0\n",
      "  Using cached https://github.com/explosion/spacy-models/releases/download/en_core_web_md-3.0.0/en_core_web_md-3.0.0-py3-none-any.whl (47.1 MB)\n",
      "Requirement already satisfied: spacy<3.1.0,>=3.0.0 in c:\\users\\dakot\\.virtualenvs\\med-cabinet--gldo00z\\lib\\site-packages (from en-core-web-md==3.0.0) (3.0.1)\n",
      "Requirement already satisfied: preshed<3.1.0,>=3.0.2 in c:\\users\\dakot\\.virtualenvs\\med-cabinet--gldo00z\\lib\\site-packages (from spacy<3.1.0,>=3.0.0->en-core-web-md==3.0.0) (3.0.5)\n",
      "Requirement already satisfied: catalogue<2.1.0,>=2.0.1 in c:\\users\\dakot\\.virtualenvs\\med-cabinet--gldo00z\\lib\\site-packages (from spacy<3.1.0,>=3.0.0->en-core-web-md==3.0.0) (2.0.1)\n",
      "Requirement already satisfied: cymem<2.1.0,>=2.0.2 in c:\\users\\dakot\\.virtualenvs\\med-cabinet--gldo00z\\lib\\site-packages (from spacy<3.1.0,>=3.0.0->en-core-web-md==3.0.0) (2.0.5)\n",
      "Requirement already satisfied: typer<0.4.0,>=0.3.0 in c:\\users\\dakot\\.virtualenvs\\med-cabinet--gldo00z\\lib\\site-packages (from spacy<3.1.0,>=3.0.0->en-core-web-md==3.0.0) (0.3.2)\n",
      "Requirement already satisfied: pathy in c:\\users\\dakot\\.virtualenvs\\med-cabinet--gldo00z\\lib\\site-packages (from spacy<3.1.0,>=3.0.0->en-core-web-md==3.0.0) (0.3.5)\n",
      "Requirement already satisfied: tqdm<5.0.0,>=4.38.0 in c:\\users\\dakot\\.virtualenvs\\med-cabinet--gldo00z\\lib\\site-packages (from spacy<3.1.0,>=3.0.0->en-core-web-md==3.0.0) (4.56.0)\n",
      "Requirement already satisfied: pydantic<1.8.0,>=1.7.1 in c:\\users\\dakot\\.virtualenvs\\med-cabinet--gldo00z\\lib\\site-packages (from spacy<3.1.0,>=3.0.0->en-core-web-md==3.0.0) (1.7.3)\n",
      "Requirement already satisfied: requests<3.0.0,>=2.13.0 in c:\\users\\dakot\\.virtualenvs\\med-cabinet--gldo00z\\lib\\site-packages (from spacy<3.1.0,>=3.0.0->en-core-web-md==3.0.0) (2.25.1)\n",
      "Requirement already satisfied: jinja2 in c:\\users\\dakot\\.virtualenvs\\med-cabinet--gldo00z\\lib\\site-packages (from spacy<3.1.0,>=3.0.0->en-core-web-md==3.0.0) (2.11.3)\n",
      "Requirement already satisfied: thinc<8.1.0,>=8.0.0 in c:\\users\\dakot\\.virtualenvs\\med-cabinet--gldo00z\\lib\\site-packages (from spacy<3.1.0,>=3.0.0->en-core-web-md==3.0.0) (8.0.1)\n",
      "Requirement already satisfied: spacy-legacy<3.1.0,>=3.0.0 in c:\\users\\dakot\\.virtualenvs\\med-cabinet--gldo00z\\lib\\site-packages (from spacy<3.1.0,>=3.0.0->en-core-web-md==3.0.0) (3.0.1)\n",
      "Requirement already satisfied: blis<0.8.0,>=0.4.0 in c:\\users\\dakot\\.virtualenvs\\med-cabinet--gldo00z\\lib\\site-packages (from spacy<3.1.0,>=3.0.0->en-core-web-md==3.0.0) (0.7.4)\n",
      "Requirement already satisfied: numpy>=1.15.0 in c:\\users\\dakot\\.virtualenvs\\med-cabinet--gldo00z\\lib\\site-packages (from spacy<3.1.0,>=3.0.0->en-core-web-md==3.0.0) (1.19.3)\n",
      "Requirement already satisfied: setuptools in c:\\users\\dakot\\.virtualenvs\\med-cabinet--gldo00z\\lib\\site-packages (from spacy<3.1.0,>=3.0.0->en-core-web-md==3.0.0) (51.0.0)\n",
      "Requirement already satisfied: wasabi<1.1.0,>=0.8.1 in c:\\users\\dakot\\.virtualenvs\\med-cabinet--gldo00z\\lib\\site-packages (from spacy<3.1.0,>=3.0.0->en-core-web-md==3.0.0) (0.8.2)\n",
      "Requirement already satisfied: murmurhash<1.1.0,>=0.28.0 in c:\\users\\dakot\\.virtualenvs\\med-cabinet--gldo00z\\lib\\site-packages (from spacy<3.1.0,>=3.0.0->en-core-web-md==3.0.0) (1.0.5)\n",
      "Requirement already satisfied: packaging>=20.0 in c:\\users\\dakot\\.virtualenvs\\med-cabinet--gldo00z\\lib\\site-packages (from spacy<3.1.0,>=3.0.0->en-core-web-md==3.0.0) (20.9)\n",
      "Requirement already satisfied: srsly<3.0.0,>=2.4.0 in c:\\users\\dakot\\.virtualenvs\\med-cabinet--gldo00z\\lib\\site-packages (from spacy<3.1.0,>=3.0.0->en-core-web-md==3.0.0) (2.4.0)\n",
      "Requirement already satisfied: pyparsing>=2.0.2 in c:\\users\\dakot\\.virtualenvs\\med-cabinet--gldo00z\\lib\\site-packages (from packaging>=20.0->spacy<3.1.0,>=3.0.0->en-core-web-md==3.0.0) (2.4.7)\n",
      "Requirement already satisfied: chardet<5,>=3.0.2 in c:\\users\\dakot\\.virtualenvs\\med-cabinet--gldo00z\\lib\\site-packages (from requests<3.0.0,>=2.13.0->spacy<3.1.0,>=3.0.0->en-core-web-md==3.0.0) (4.0.0)\n",
      "Requirement already satisfied: idna<3,>=2.5 in c:\\users\\dakot\\.virtualenvs\\med-cabinet--gldo00z\\lib\\site-packages (from requests<3.0.0,>=2.13.0->spacy<3.1.0,>=3.0.0->en-core-web-md==3.0.0) (2.10)\n",
      "Requirement already satisfied: certifi>=2017.4.17 in c:\\users\\dakot\\.virtualenvs\\med-cabinet--gldo00z\\lib\\site-packages (from requests<3.0.0,>=2.13.0->spacy<3.1.0,>=3.0.0->en-core-web-md==3.0.0) (2020.12.5)\n",
      "Requirement already satisfied: urllib3<1.27,>=1.21.1 in c:\\users\\dakot\\.virtualenvs\\med-cabinet--gldo00z\\lib\\site-packages (from requests<3.0.0,>=2.13.0->spacy<3.1.0,>=3.0.0->en-core-web-md==3.0.0) (1.26.3)\n",
      "Requirement already satisfied: click<7.2.0,>=7.1.1 in c:\\users\\dakot\\.virtualenvs\\med-cabinet--gldo00z\\lib\\site-packages (from typer<0.4.0,>=0.3.0->spacy<3.1.0,>=3.0.0->en-core-web-md==3.0.0) (7.1.2)\n",
      "Requirement already satisfied: MarkupSafe>=0.23 in c:\\users\\dakot\\.virtualenvs\\med-cabinet--gldo00z\\lib\\site-packages (from jinja2->spacy<3.1.0,>=3.0.0->en-core-web-md==3.0.0) (1.1.1)\n",
      "Requirement already satisfied: smart-open<4.0.0,>=2.2.0 in c:\\users\\dakot\\.virtualenvs\\med-cabinet--gldo00z\\lib\\site-packages (from pathy->spacy<3.1.0,>=3.0.0->en-core-web-md==3.0.0) (3.0.0)\n",
      "[+] Download and installation successful\n",
      "You can now load the package via spacy.load('en_core_web_md')\n"
     ]
    }
   ],
   "source": [
    "!python -m spacy download en_core_web_md"
   ]
  },
  {
   "cell_type": "markdown",
   "id": "following-improvement",
   "metadata": {},
   "source": [
    "### Import Data"
   ]
  },
  {
   "cell_type": "code",
   "execution_count": 3,
   "id": "cardiovascular-circle",
   "metadata": {
    "scrolled": true
   },
   "outputs": [
    {
     "data": {
      "text/html": [
       "<div>\n",
       "<style scoped>\n",
       "    .dataframe tbody tr th:only-of-type {\n",
       "        vertical-align: middle;\n",
       "    }\n",
       "\n",
       "    .dataframe tbody tr th {\n",
       "        vertical-align: top;\n",
       "    }\n",
       "\n",
       "    .dataframe thead th {\n",
       "        text-align: right;\n",
       "    }\n",
       "</style>\n",
       "<table border=\"1\" class=\"dataframe\">\n",
       "  <thead>\n",
       "    <tr style=\"text-align: right;\">\n",
       "      <th></th>\n",
       "      <th>Strain</th>\n",
       "      <th>Type</th>\n",
       "      <th>Rating</th>\n",
       "      <th>Effects</th>\n",
       "      <th>Flavor</th>\n",
       "      <th>Description</th>\n",
       "    </tr>\n",
       "  </thead>\n",
       "  <tbody>\n",
       "    <tr>\n",
       "      <th>0</th>\n",
       "      <td>100-Og</td>\n",
       "      <td>hybrid</td>\n",
       "      <td>4.0</td>\n",
       "      <td>Creative,Energetic,Tingly,Euphoric,Relaxed</td>\n",
       "      <td>Earthy,Sweet,Citrus</td>\n",
       "      <td>$100 OG is a 50/50 hybrid strain that packs a ...</td>\n",
       "    </tr>\n",
       "    <tr>\n",
       "      <th>1</th>\n",
       "      <td>98-White-Widow</td>\n",
       "      <td>hybrid</td>\n",
       "      <td>4.7</td>\n",
       "      <td>Relaxed,Aroused,Creative,Happy,Energetic</td>\n",
       "      <td>Flowery,Violet,Diesel</td>\n",
       "      <td>The ‘98 Aloha White Widow is an especially pot...</td>\n",
       "    </tr>\n",
       "    <tr>\n",
       "      <th>2</th>\n",
       "      <td>1024</td>\n",
       "      <td>sativa</td>\n",
       "      <td>4.4</td>\n",
       "      <td>Uplifted,Happy,Relaxed,Energetic,Creative</td>\n",
       "      <td>Spicy/Herbal,Sage,Woody</td>\n",
       "      <td>1024 is a sativa-dominant hybrid bred in Spain...</td>\n",
       "    </tr>\n",
       "    <tr>\n",
       "      <th>3</th>\n",
       "      <td>13-Dawgs</td>\n",
       "      <td>hybrid</td>\n",
       "      <td>4.2</td>\n",
       "      <td>Tingly,Creative,Hungry,Relaxed,Uplifted</td>\n",
       "      <td>Apricot,Citrus,Grapefruit</td>\n",
       "      <td>13 Dawgs is a hybrid of G13 and Chemdawg genet...</td>\n",
       "    </tr>\n",
       "    <tr>\n",
       "      <th>4</th>\n",
       "      <td>24K-Gold</td>\n",
       "      <td>hybrid</td>\n",
       "      <td>4.6</td>\n",
       "      <td>Happy,Relaxed,Euphoric,Uplifted,Talkative</td>\n",
       "      <td>Citrus,Earthy,Orange</td>\n",
       "      <td>Also known as Kosher Tangie, 24k Gold is a 60%...</td>\n",
       "    </tr>\n",
       "  </tbody>\n",
       "</table>\n",
       "</div>"
      ],
      "text/plain": [
       "           Strain    Type  Rating                                     Effects  \\\n",
       "0          100-Og  hybrid     4.0  Creative,Energetic,Tingly,Euphoric,Relaxed   \n",
       "1  98-White-Widow  hybrid     4.7    Relaxed,Aroused,Creative,Happy,Energetic   \n",
       "2            1024  sativa     4.4   Uplifted,Happy,Relaxed,Energetic,Creative   \n",
       "3        13-Dawgs  hybrid     4.2     Tingly,Creative,Hungry,Relaxed,Uplifted   \n",
       "4        24K-Gold  hybrid     4.6   Happy,Relaxed,Euphoric,Uplifted,Talkative   \n",
       "\n",
       "                      Flavor  \\\n",
       "0        Earthy,Sweet,Citrus   \n",
       "1      Flowery,Violet,Diesel   \n",
       "2    Spicy/Herbal,Sage,Woody   \n",
       "3  Apricot,Citrus,Grapefruit   \n",
       "4       Citrus,Earthy,Orange   \n",
       "\n",
       "                                         Description  \n",
       "0  $100 OG is a 50/50 hybrid strain that packs a ...  \n",
       "1  The ‘98 Aloha White Widow is an especially pot...  \n",
       "2  1024 is a sativa-dominant hybrid bred in Spain...  \n",
       "3  13 Dawgs is a hybrid of G13 and Chemdawg genet...  \n",
       "4  Also known as Kosher Tangie, 24k Gold is a 60%...  "
      ]
     },
     "execution_count": 3,
     "metadata": {},
     "output_type": "execute_result"
    }
   ],
   "source": [
    "# Read in data\n",
    "df = pd.read_csv('cannabis.csv')\n",
    "df.head()"
   ]
  },
  {
   "cell_type": "markdown",
   "id": "confirmed-vitamin",
   "metadata": {},
   "source": [
    "### Wrangle Data"
   ]
  },
  {
   "cell_type": "code",
   "execution_count": 4,
   "id": "respiratory-little",
   "metadata": {},
   "outputs": [],
   "source": [
    "def list_effects(data=df.Effects):\n",
    "    \"\"\"Aggregate all effects associated with Effects column of DataFrame.\n",
    "    \n",
    "    Args:\n",
    "        data (pandas.Series): DataFrame column to break down. Default set to 'Effects'\n",
    "    Returns:\n",
    "        effects_list (list): list of all effects under the Effects column\n",
    "    \"\"\"\n",
    "    effects_list = []\n",
    "    \n",
    "    # Split each list of effects and append each, lowered effect to list\n",
    "    for i in range(0, len(df)):\n",
    "        effects = data[i].split(\",\")\n",
    "        for effect in effects:\n",
    "            effects_list.append(effect.lower())\n",
    "    \n",
    "    return effects_list"
   ]
  },
  {
   "cell_type": "code",
   "execution_count": 5,
   "id": "accepted-partner",
   "metadata": {},
   "outputs": [
    {
     "data": {
      "text/plain": [
       "{'aroused',\n",
       " 'creative',\n",
       " 'dry',\n",
       " 'energetic',\n",
       " 'euphoric',\n",
       " 'focused',\n",
       " 'giggly',\n",
       " 'happy',\n",
       " 'hungry',\n",
       " 'mouth',\n",
       " 'none',\n",
       " 'relaxed',\n",
       " 'sleepy',\n",
       " 'talkative',\n",
       " 'tingly',\n",
       " 'uplifted'}"
      ]
     },
     "execution_count": 5,
     "metadata": {},
     "output_type": "execute_result"
    }
   ],
   "source": [
    "# Get unique list of all effects\n",
    "all_effects = set(list_effects())\n",
    "all_effects"
   ]
  },
  {
   "cell_type": "code",
   "execution_count": 6,
   "id": "seven-subscription",
   "metadata": {},
   "outputs": [],
   "source": [
    "# Remove rows with NaN description values\n",
    "df = df[~df[\"Description\"].isnull()].reset_index()"
   ]
  },
  {
   "cell_type": "code",
   "execution_count": 7,
   "id": "distinct-presentation",
   "metadata": {},
   "outputs": [],
   "source": [
    "# Remove rows with 'none' values from description\n",
    "df = df[~(df.Description == 'None')].reset_index()"
   ]
  },
  {
   "cell_type": "markdown",
   "id": "universal-transformation",
   "metadata": {},
   "source": [
    "### Natural Language Processing"
   ]
  },
  {
   "cell_type": "code",
   "execution_count": 8,
   "id": "parental-thanks",
   "metadata": {},
   "outputs": [],
   "source": [
    "def preprocessor(doc):\n",
    "    doc = nlp(doc)\n",
    "    \n",
    "    return \" \".join([token.lemma_.lower() for token in doc if not token.is_stop and not token.is_punct])\n",
    "\n",
    "df[\"processed\"] = df[\"Description\"].apply(preprocessor)"
   ]
  },
  {
   "cell_type": "code",
   "execution_count": 17,
   "id": "mobile-estimate",
   "metadata": {},
   "outputs": [
    {
     "data": {
      "text/plain": [
       "0       $ 100 og 50/50 hybrid strain pack strong punch...\n",
       "1       98 aloha white widow especially potent cut whi...\n",
       "2       1024 sativa dominant hybrid breed spain medica...\n",
       "3       13 dawgs hybrid g13 chemdawg genetic breed can...\n",
       "4       know kosher tangie 24k gold 60 indica dominant...\n",
       "                              ...                        \n",
       "2309    zeus og   hybrid cross pineapple og deadhead o...\n",
       "2310    zkittlez indica dominant mix grape ape grapefr...\n",
       "2311    zombie kush ripper seeds come different kush g...\n",
       "2312    look transform flesh eat monster zombie og cho...\n",
       "2313    zoom pie know zombie pie heavy indica dominant...\n",
       "Name: processed, Length: 2314, dtype: object"
      ]
     },
     "execution_count": 17,
     "metadata": {},
     "output_type": "execute_result"
    }
   ],
   "source": [
    "df[\"processed\"]"
   ]
  },
  {
   "cell_type": "code",
   "execution_count": 9,
   "id": "exotic-diary",
   "metadata": {},
   "outputs": [],
   "source": [
    "vect = TfidfVectorizer()\n",
    "vect.fit(df['processed'])\n",
    "dtm = vect.transform(df['processed'])"
   ]
  },
  {
   "cell_type": "code",
   "execution_count": 10,
   "id": "driving-container",
   "metadata": {},
   "outputs": [],
   "source": [
    "my_desc = [\"I want something that tastes fruity and is very potent. I need something that will help with pain relief and help me feel calm.\"]\n",
    "my_desc_vect = vect.transform(my_desc)"
   ]
  },
  {
   "cell_type": "code",
   "execution_count": 11,
   "id": "creative-bhutan",
   "metadata": {},
   "outputs": [
    {
     "name": "stderr",
     "output_type": "stream",
     "text": [
      "c:\\users\\dakot\\.virtualenvs\\med-cabinet--gldo00z\\lib\\site-packages\\sklearn\\neighbors\\_base.py:462: UserWarning: cannot use tree with sparse input: using brute force\n",
      "  warnings.warn(\"cannot use tree with sparse input: \"\n"
     ]
    },
    {
     "data": {
      "text/plain": [
       "NearestNeighbors(algorithm='kd_tree', n_jobs=-1, n_neighbors=10)"
      ]
     },
     "execution_count": 11,
     "metadata": {},
     "output_type": "execute_result"
    }
   ],
   "source": [
    "### Model\n",
    "nn = NearestNeighbors(algorithm='kd_tree', n_neighbors=10, n_jobs=-1)\n",
    "nn.fit(dtm)"
   ]
  },
  {
   "cell_type": "code",
   "execution_count": 12,
   "id": "threatened-money",
   "metadata": {},
   "outputs": [
    {
     "data": {
      "text/plain": [
       "<1x7097 sparse matrix of type '<class 'numpy.float64'>'\n",
       "\twith 10 stored elements in Compressed Sparse Row format>"
      ]
     },
     "execution_count": 12,
     "metadata": {},
     "output_type": "execute_result"
    }
   ],
   "source": [
    "my_desc_vect"
   ]
  },
  {
   "cell_type": "code",
   "execution_count": 13,
   "id": "horizontal-karaoke",
   "metadata": {},
   "outputs": [],
   "source": [
    "dist, ind = nn.kneighbors(my_desc_vect)"
   ]
  },
  {
   "cell_type": "code",
   "execution_count": 14,
   "id": "skilled-warner",
   "metadata": {},
   "outputs": [
    {
     "data": {
      "text/plain": [
       "array([[1.24141098, 1.29306533, 1.3192707 , 1.32066469, 1.3281847 ,\n",
       "        1.3284485 , 1.3349045 , 1.33531259, 1.33604288, 1.33969241]])"
      ]
     },
     "execution_count": 14,
     "metadata": {},
     "output_type": "execute_result"
    }
   ],
   "source": [
    "dist"
   ]
  },
  {
   "cell_type": "code",
   "execution_count": 15,
   "id": "documented-broadcasting",
   "metadata": {},
   "outputs": [
    {
     "data": {
      "text/plain": [
       "array([[ 300,  761,  161,  708, 1638,  314, 1531, 1784, 1011, 2304]],\n",
       "      dtype=int64)"
      ]
     },
     "execution_count": 15,
     "metadata": {},
     "output_type": "execute_result"
    }
   ],
   "source": [
    "ind"
   ]
  },
  {
   "cell_type": "code",
   "execution_count": 16,
   "id": "black-samba",
   "metadata": {
    "scrolled": true
   },
   "outputs": [
    {
     "data": {
      "text/plain": [
       "'The fusion of Blueberry\\xa0and Northern Lights, Blue Lights is\\xa0an indica\\xa0strain with a noteworthy THC content. This flower emits a blueberry pungency thanks to the Blueberry\\xa0influence, and provides a combination of sedative and euphoric long-lasting effects. Although fitting for day or nighttime use, this strain may be the perfect choice for end of the day stress and/or pain relief.'"
      ]
     },
     "execution_count": 16,
     "metadata": {},
     "output_type": "execute_result"
    }
   ],
   "source": [
    "df[\"Description\"][300]"
   ]
  },
  {
   "cell_type": "code",
   "execution_count": 18,
   "id": "light-austin",
   "metadata": {},
   "outputs": [],
   "source": [
    "## Pickle objects\n",
    "# preprocessor.__module__ = \"predict\"\n",
    "# dill.dump(processor, open('../processor.pkl', 'wb'))\n",
    "# pickle.dump(all_effects, open('../med-cabinet/static/data/effects_list.pkl', 'wb'))\n",
    "pickle.dump(vect, open('../vectorizer.pkl', 'wb'))\n",
    "pickle.dump(nn, open('../model.pkl', 'wb'))"
   ]
  },
  {
   "cell_type": "code",
   "execution_count": 15,
   "id": "confident-leonard",
   "metadata": {},
   "outputs": [],
   "source": [
    "import dill"
   ]
  },
  {
   "cell_type": "code",
   "execution_count": null,
   "id": "moral-sodium",
   "metadata": {},
   "outputs": [],
   "source": []
  }
 ],
 "metadata": {
  "kernelspec": {
   "display_name": "Python 3",
   "language": "python",
   "name": "python3"
  },
  "language_info": {
   "codemirror_mode": {
    "name": "ipython",
    "version": 3
   },
   "file_extension": ".py",
   "mimetype": "text/x-python",
   "name": "python",
   "nbconvert_exporter": "python",
   "pygments_lexer": "ipython3",
   "version": "3.8.6"
  }
 },
 "nbformat": 4,
 "nbformat_minor": 5
}
