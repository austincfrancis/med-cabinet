{
 "cells": [
  {
   "cell_type": "markdown",
   "id": "sublime-auction",
   "metadata": {},
   "source": [
    "# Explore Cannabis Data"
   ]
  },
  {
   "cell_type": "code",
   "execution_count": 1,
   "id": "earned-elite",
   "metadata": {},
   "outputs": [],
   "source": [
    "# Standard Library Imports\n",
    "import pickle\n",
    "\n",
    "# Third-Party Imports\n",
    "import spacy\n",
    "import pandas as pd\n",
    "from sklearn.neighbors import NearestNeighbors\n",
    "from sklearn.feature_extraction.text import TfidfVectorizer"
   ]
  },
  {
   "cell_type": "code",
   "execution_count": 3,
   "id": "introductory-commerce",
   "metadata": {
    "collapsed": true
   },
   "outputs": [
    {
     "name": "stdout",
     "output_type": "stream",
     "text": [
      "Collecting en-core-web-md==3.0.0\n",
      "  Using cached https://github.com/explosion/spacy-models/releases/download/en_core_web_md-3.0.0/en_core_web_md-3.0.0-py3-none-any.whl (47.1 MB)\n",
      "Requirement already satisfied: spacy<3.1.0,>=3.0.0 in c:\\users\\dakot\\.virtualenvs\\med-cabinet--gldo00z\\lib\\site-packages (from en-core-web-md==3.0.0) (3.0.1)\n",
      "Requirement already satisfied: preshed<3.1.0,>=3.0.2 in c:\\users\\dakot\\.virtualenvs\\med-cabinet--gldo00z\\lib\\site-packages (from spacy<3.1.0,>=3.0.0->en-core-web-md==3.0.0) (3.0.5)\n",
      "Requirement already satisfied: catalogue<2.1.0,>=2.0.1 in c:\\users\\dakot\\.virtualenvs\\med-cabinet--gldo00z\\lib\\site-packages (from spacy<3.1.0,>=3.0.0->en-core-web-md==3.0.0) (2.0.1)\n",
      "Requirement already satisfied: cymem<2.1.0,>=2.0.2 in c:\\users\\dakot\\.virtualenvs\\med-cabinet--gldo00z\\lib\\site-packages (from spacy<3.1.0,>=3.0.0->en-core-web-md==3.0.0) (2.0.5)\n",
      "Requirement already satisfied: typer<0.4.0,>=0.3.0 in c:\\users\\dakot\\.virtualenvs\\med-cabinet--gldo00z\\lib\\site-packages (from spacy<3.1.0,>=3.0.0->en-core-web-md==3.0.0) (0.3.2)\n",
      "Requirement already satisfied: pathy in c:\\users\\dakot\\.virtualenvs\\med-cabinet--gldo00z\\lib\\site-packages (from spacy<3.1.0,>=3.0.0->en-core-web-md==3.0.0) (0.3.5)\n",
      "Requirement already satisfied: tqdm<5.0.0,>=4.38.0 in c:\\users\\dakot\\.virtualenvs\\med-cabinet--gldo00z\\lib\\site-packages (from spacy<3.1.0,>=3.0.0->en-core-web-md==3.0.0) (4.56.0)\n",
      "Requirement already satisfied: pydantic<1.8.0,>=1.7.1 in c:\\users\\dakot\\.virtualenvs\\med-cabinet--gldo00z\\lib\\site-packages (from spacy<3.1.0,>=3.0.0->en-core-web-md==3.0.0) (1.7.3)\n",
      "Requirement already satisfied: requests<3.0.0,>=2.13.0 in c:\\users\\dakot\\.virtualenvs\\med-cabinet--gldo00z\\lib\\site-packages (from spacy<3.1.0,>=3.0.0->en-core-web-md==3.0.0) (2.25.1)\n",
      "Requirement already satisfied: jinja2 in c:\\users\\dakot\\.virtualenvs\\med-cabinet--gldo00z\\lib\\site-packages (from spacy<3.1.0,>=3.0.0->en-core-web-md==3.0.0) (2.11.3)\n",
      "Requirement already satisfied: thinc<8.1.0,>=8.0.0 in c:\\users\\dakot\\.virtualenvs\\med-cabinet--gldo00z\\lib\\site-packages (from spacy<3.1.0,>=3.0.0->en-core-web-md==3.0.0) (8.0.1)\n",
      "Requirement already satisfied: spacy-legacy<3.1.0,>=3.0.0 in c:\\users\\dakot\\.virtualenvs\\med-cabinet--gldo00z\\lib\\site-packages (from spacy<3.1.0,>=3.0.0->en-core-web-md==3.0.0) (3.0.1)\n",
      "Requirement already satisfied: blis<0.8.0,>=0.4.0 in c:\\users\\dakot\\.virtualenvs\\med-cabinet--gldo00z\\lib\\site-packages (from spacy<3.1.0,>=3.0.0->en-core-web-md==3.0.0) (0.7.4)\n",
      "Requirement already satisfied: numpy>=1.15.0 in c:\\users\\dakot\\.virtualenvs\\med-cabinet--gldo00z\\lib\\site-packages (from spacy<3.1.0,>=3.0.0->en-core-web-md==3.0.0) (1.19.3)\n",
      "Requirement already satisfied: setuptools in c:\\users\\dakot\\.virtualenvs\\med-cabinet--gldo00z\\lib\\site-packages (from spacy<3.1.0,>=3.0.0->en-core-web-md==3.0.0) (51.0.0)\n",
      "Requirement already satisfied: wasabi<1.1.0,>=0.8.1 in c:\\users\\dakot\\.virtualenvs\\med-cabinet--gldo00z\\lib\\site-packages (from spacy<3.1.0,>=3.0.0->en-core-web-md==3.0.0) (0.8.2)\n",
      "Requirement already satisfied: murmurhash<1.1.0,>=0.28.0 in c:\\users\\dakot\\.virtualenvs\\med-cabinet--gldo00z\\lib\\site-packages (from spacy<3.1.0,>=3.0.0->en-core-web-md==3.0.0) (1.0.5)\n",
      "Requirement already satisfied: packaging>=20.0 in c:\\users\\dakot\\.virtualenvs\\med-cabinet--gldo00z\\lib\\site-packages (from spacy<3.1.0,>=3.0.0->en-core-web-md==3.0.0) (20.9)\n",
      "Requirement already satisfied: srsly<3.0.0,>=2.4.0 in c:\\users\\dakot\\.virtualenvs\\med-cabinet--gldo00z\\lib\\site-packages (from spacy<3.1.0,>=3.0.0->en-core-web-md==3.0.0) (2.4.0)\n",
      "Requirement already satisfied: pyparsing>=2.0.2 in c:\\users\\dakot\\.virtualenvs\\med-cabinet--gldo00z\\lib\\site-packages (from packaging>=20.0->spacy<3.1.0,>=3.0.0->en-core-web-md==3.0.0) (2.4.7)\n",
      "Requirement already satisfied: chardet<5,>=3.0.2 in c:\\users\\dakot\\.virtualenvs\\med-cabinet--gldo00z\\lib\\site-packages (from requests<3.0.0,>=2.13.0->spacy<3.1.0,>=3.0.0->en-core-web-md==3.0.0) (4.0.0)\n",
      "Requirement already satisfied: idna<3,>=2.5 in c:\\users\\dakot\\.virtualenvs\\med-cabinet--gldo00z\\lib\\site-packages (from requests<3.0.0,>=2.13.0->spacy<3.1.0,>=3.0.0->en-core-web-md==3.0.0) (2.10)\n",
      "Requirement already satisfied: certifi>=2017.4.17 in c:\\users\\dakot\\.virtualenvs\\med-cabinet--gldo00z\\lib\\site-packages (from requests<3.0.0,>=2.13.0->spacy<3.1.0,>=3.0.0->en-core-web-md==3.0.0) (2020.12.5)\n",
      "Requirement already satisfied: urllib3<1.27,>=1.21.1 in c:\\users\\dakot\\.virtualenvs\\med-cabinet--gldo00z\\lib\\site-packages (from requests<3.0.0,>=2.13.0->spacy<3.1.0,>=3.0.0->en-core-web-md==3.0.0) (1.26.3)\n",
      "Requirement already satisfied: click<7.2.0,>=7.1.1 in c:\\users\\dakot\\.virtualenvs\\med-cabinet--gldo00z\\lib\\site-packages (from typer<0.4.0,>=0.3.0->spacy<3.1.0,>=3.0.0->en-core-web-md==3.0.0) (7.1.2)\n",
      "Requirement already satisfied: MarkupSafe>=0.23 in c:\\users\\dakot\\.virtualenvs\\med-cabinet--gldo00z\\lib\\site-packages (from jinja2->spacy<3.1.0,>=3.0.0->en-core-web-md==3.0.0) (1.1.1)\n",
      "Requirement already satisfied: smart-open<4.0.0,>=2.2.0 in c:\\users\\dakot\\.virtualenvs\\med-cabinet--gldo00z\\lib\\site-packages (from pathy->spacy<3.1.0,>=3.0.0->en-core-web-md==3.0.0) (3.0.0)\n",
      "[+] Download and installation successful\n",
      "You can now load the package via spacy.load('en_core_web_md')\n"
     ]
    }
   ],
   "source": [
    "# Download spaCy model\n",
    "# !python -m spacy download en_core_web_md"
   ]
  },
  {
   "cell_type": "code",
   "execution_count": 33,
   "id": "meaning-collector",
   "metadata": {},
   "outputs": [],
   "source": [
    "# Load spaCy model\n",
    "nlp = spacy.load('en_core_web_md')"
   ]
  },
  {
   "cell_type": "markdown",
   "id": "following-improvement",
   "metadata": {},
   "source": [
    "### Import Data"
   ]
  },
  {
   "cell_type": "code",
   "execution_count": 2,
   "id": "cardiovascular-circle",
   "metadata": {
    "scrolled": true
   },
   "outputs": [
    {
     "data": {
      "text/html": [
       "<div>\n",
       "<style scoped>\n",
       "    .dataframe tbody tr th:only-of-type {\n",
       "        vertical-align: middle;\n",
       "    }\n",
       "\n",
       "    .dataframe tbody tr th {\n",
       "        vertical-align: top;\n",
       "    }\n",
       "\n",
       "    .dataframe thead th {\n",
       "        text-align: right;\n",
       "    }\n",
       "</style>\n",
       "<table border=\"1\" class=\"dataframe\">\n",
       "  <thead>\n",
       "    <tr style=\"text-align: right;\">\n",
       "      <th></th>\n",
       "      <th>Strain</th>\n",
       "      <th>Type</th>\n",
       "      <th>Rating</th>\n",
       "      <th>Effects</th>\n",
       "      <th>Flavor</th>\n",
       "      <th>Description</th>\n",
       "    </tr>\n",
       "  </thead>\n",
       "  <tbody>\n",
       "    <tr>\n",
       "      <th>0</th>\n",
       "      <td>100-Og</td>\n",
       "      <td>hybrid</td>\n",
       "      <td>4.0</td>\n",
       "      <td>Creative,Energetic,Tingly,Euphoric,Relaxed</td>\n",
       "      <td>Earthy,Sweet,Citrus</td>\n",
       "      <td>$100 OG is a 50/50 hybrid strain that packs a ...</td>\n",
       "    </tr>\n",
       "    <tr>\n",
       "      <th>1</th>\n",
       "      <td>98-White-Widow</td>\n",
       "      <td>hybrid</td>\n",
       "      <td>4.7</td>\n",
       "      <td>Relaxed,Aroused,Creative,Happy,Energetic</td>\n",
       "      <td>Flowery,Violet,Diesel</td>\n",
       "      <td>The ‘98 Aloha White Widow is an especially pot...</td>\n",
       "    </tr>\n",
       "    <tr>\n",
       "      <th>2</th>\n",
       "      <td>1024</td>\n",
       "      <td>sativa</td>\n",
       "      <td>4.4</td>\n",
       "      <td>Uplifted,Happy,Relaxed,Energetic,Creative</td>\n",
       "      <td>Spicy/Herbal,Sage,Woody</td>\n",
       "      <td>1024 is a sativa-dominant hybrid bred in Spain...</td>\n",
       "    </tr>\n",
       "    <tr>\n",
       "      <th>3</th>\n",
       "      <td>13-Dawgs</td>\n",
       "      <td>hybrid</td>\n",
       "      <td>4.2</td>\n",
       "      <td>Tingly,Creative,Hungry,Relaxed,Uplifted</td>\n",
       "      <td>Apricot,Citrus,Grapefruit</td>\n",
       "      <td>13 Dawgs is a hybrid of G13 and Chemdawg genet...</td>\n",
       "    </tr>\n",
       "    <tr>\n",
       "      <th>4</th>\n",
       "      <td>24K-Gold</td>\n",
       "      <td>hybrid</td>\n",
       "      <td>4.6</td>\n",
       "      <td>Happy,Relaxed,Euphoric,Uplifted,Talkative</td>\n",
       "      <td>Citrus,Earthy,Orange</td>\n",
       "      <td>Also known as Kosher Tangie, 24k Gold is a 60%...</td>\n",
       "    </tr>\n",
       "  </tbody>\n",
       "</table>\n",
       "</div>"
      ],
      "text/plain": [
       "           Strain    Type  Rating                                     Effects  \\\n",
       "0          100-Og  hybrid     4.0  Creative,Energetic,Tingly,Euphoric,Relaxed   \n",
       "1  98-White-Widow  hybrid     4.7    Relaxed,Aroused,Creative,Happy,Energetic   \n",
       "2            1024  sativa     4.4   Uplifted,Happy,Relaxed,Energetic,Creative   \n",
       "3        13-Dawgs  hybrid     4.2     Tingly,Creative,Hungry,Relaxed,Uplifted   \n",
       "4        24K-Gold  hybrid     4.6   Happy,Relaxed,Euphoric,Uplifted,Talkative   \n",
       "\n",
       "                      Flavor  \\\n",
       "0        Earthy,Sweet,Citrus   \n",
       "1      Flowery,Violet,Diesel   \n",
       "2    Spicy/Herbal,Sage,Woody   \n",
       "3  Apricot,Citrus,Grapefruit   \n",
       "4       Citrus,Earthy,Orange   \n",
       "\n",
       "                                         Description  \n",
       "0  $100 OG is a 50/50 hybrid strain that packs a ...  \n",
       "1  The ‘98 Aloha White Widow is an especially pot...  \n",
       "2  1024 is a sativa-dominant hybrid bred in Spain...  \n",
       "3  13 Dawgs is a hybrid of G13 and Chemdawg genet...  \n",
       "4  Also known as Kosher Tangie, 24k Gold is a 60%...  "
      ]
     },
     "execution_count": 2,
     "metadata": {},
     "output_type": "execute_result"
    }
   ],
   "source": [
    "## Read in data from local csv\n",
    "# Location if not present: https://www.kaggle.com/kingburrito666/cannabis-strains\n",
    "df = pd.read_csv('cannabis.csv')\n",
    "df.head()"
   ]
  },
  {
   "cell_type": "markdown",
   "id": "confirmed-vitamin",
   "metadata": {},
   "source": [
    "### Wrangle Data"
   ]
  },
  {
   "cell_type": "code",
   "execution_count": 19,
   "id": "respiratory-little",
   "metadata": {},
   "outputs": [],
   "source": [
    "def list_effects(data=df.Effects):\n",
    "    \"\"\"Aggregate all unique effects associated with Effects column of DataFrame.\n",
    "    \n",
    "    Args:\n",
    "        data (pandas.Series): DataFrame column to break down. Default set to 'Effects'\n",
    "    Returns:\n",
    "        effects_list (list): list of all effects under the Effects column\n",
    "    \"\"\"\n",
    "    effects_list = []\n",
    "    \n",
    "    # Split each list of effects and append each, lowered effect to list\n",
    "    for i in range(0, len(df)):\n",
    "        effects = data[i].split(\",\")\n",
    "        for effect in effects:\n",
    "            effects_list.append(effect.lower())\n",
    "    \n",
    "    return set(effects_list)"
   ]
  },
  {
   "cell_type": "code",
   "execution_count": 21,
   "id": "accepted-partner",
   "metadata": {},
   "outputs": [
    {
     "data": {
      "text/plain": [
       "{'aroused',\n",
       " 'creative',\n",
       " 'dry',\n",
       " 'energetic',\n",
       " 'euphoric',\n",
       " 'focused',\n",
       " 'giggly',\n",
       " 'happy',\n",
       " 'hungry',\n",
       " 'mouth',\n",
       " 'none',\n",
       " 'relaxed',\n",
       " 'sleepy',\n",
       " 'talkative',\n",
       " 'tingly',\n",
       " 'uplifted'}"
      ]
     },
     "execution_count": 21,
     "metadata": {},
     "output_type": "execute_result"
    }
   ],
   "source": [
    "# Get unique list of all effects\n",
    "all_effects = list_effects()\n",
    "all_effects"
   ]
  },
  {
   "cell_type": "code",
   "execution_count": 22,
   "id": "assigned-healthcare",
   "metadata": {},
   "outputs": [],
   "source": [
    "# Remove some unnecessary effects\n",
    "bad_effects = ['dry', 'mouth', 'aroused', 'none']\n",
    "for effect in bad_effects:\n",
    "    all_effects.remove(effect)"
   ]
  },
  {
   "cell_type": "code",
   "execution_count": 27,
   "id": "chinese-version",
   "metadata": {},
   "outputs": [
    {
     "data": {
      "text/plain": [
       "['Euphoric',\n",
       " 'Focused',\n",
       " 'Uplifted',\n",
       " 'Tingly',\n",
       " 'Energetic',\n",
       " 'Creative',\n",
       " 'Relaxed',\n",
       " 'Happy',\n",
       " 'Hungry',\n",
       " 'Talkative',\n",
       " 'Sleepy',\n",
       " 'Giggly']"
      ]
     },
     "execution_count": 27,
     "metadata": {},
     "output_type": "execute_result"
    }
   ],
   "source": [
    "# Capitalize each effect for future presentation\n",
    "effects_list = []\n",
    "\n",
    "for effect in all_effects:\n",
    "    effects_list.append(effect.capitalize())"
   ]
  },
  {
   "cell_type": "code",
   "execution_count": 38,
   "id": "seven-subscription",
   "metadata": {},
   "outputs": [],
   "source": [
    "# Remove rows with NaN description values\n",
    "df = df[~df['Description'].isnull()].reset_index()"
   ]
  },
  {
   "cell_type": "code",
   "execution_count": 39,
   "id": "distinct-presentation",
   "metadata": {},
   "outputs": [],
   "source": [
    "# Remove rows with 'none' description values\n",
    "df = df[~(df.Description == 'None')].reset_index()"
   ]
  },
  {
   "cell_type": "markdown",
   "id": "universal-transformation",
   "metadata": {},
   "source": [
    "### Natural Language Processing"
   ]
  },
  {
   "cell_type": "code",
   "execution_count": 40,
   "id": "parental-thanks",
   "metadata": {},
   "outputs": [],
   "source": [
    "def preprocessor(doc):\n",
    "    \"\"\"Preprocess input text data using spaCy functionality.\n",
    "\n",
    "    Args:\n",
    "        doc (list): List of input data to be processed\n",
    "    Returns:\n",
    "        new_text (str): New processed document\n",
    "    \"\"\"\n",
    "    doc = nlp(doc)\n",
    "    new_text = \" \".join([token.lemma_.lower() for token in doc if not\n",
    "                         token.is_stop and not token.is_punct])\n",
    "\n",
    "    return new_text\n",
    "\n",
    "# Apply preprocess to data and save to new column\n",
    "df['Processed'] = df['Description'].apply(preprocessor)"
   ]
  },
  {
   "cell_type": "code",
   "execution_count": 60,
   "id": "exotic-diary",
   "metadata": {},
   "outputs": [],
   "source": [
    "# Instantiate vectorizer and fit it with processed data\n",
    "vect = TfidfVectorizer(ngram_range=(1, 1))\n",
    "vect.fit(df['Processed'])\n",
    "\n",
    "# Transform processed data for fitting of nn model\n",
    "dtm = vect.transform(df['Processed'])"
   ]
  },
  {
   "cell_type": "code",
   "execution_count": 61,
   "id": "creative-bhutan",
   "metadata": {},
   "outputs": [
    {
     "data": {
      "text/plain": [
       "NearestNeighbors(algorithm='kd_tree', n_jobs=-1, n_neighbors=10)"
      ]
     },
     "execution_count": 61,
     "metadata": {},
     "output_type": "execute_result"
    }
   ],
   "source": [
    "# Instatiate model and fit it with vectorized data\n",
    "nn = NearestNeighbors(algorithm='kd_tree', n_neighbors=10, n_jobs=-1)\n",
    "nn.fit(dtm)"
   ]
  },
  {
   "cell_type": "code",
   "execution_count": 62,
   "id": "dominant-knowing",
   "metadata": {},
   "outputs": [],
   "source": [
    "# Create fake description to test model performance\n",
    "my_desc = \"I want something that tastes fruity and is very potent. I need something that will help with pain relief and help me feel calm.\"\n",
    "\n",
    "# Process and vectorize fake description\n",
    "my_desc = preprocessor(my_desc)\n",
    "my_desc_vect = vect.transform([my_desc])"
   ]
  },
  {
   "cell_type": "code",
   "execution_count": 63,
   "id": "horizontal-karaoke",
   "metadata": {},
   "outputs": [],
   "source": [
    "# Find nearest neighbors of fake description\n",
    "dist, ind = nn.kneighbors(my_desc_vect)"
   ]
  },
  {
   "cell_type": "code",
   "execution_count": 64,
   "id": "skilled-warner",
   "metadata": {},
   "outputs": [
    {
     "data": {
      "text/plain": [
       "array([[1.26711912, 1.26878204, 1.27096056, 1.28309896, 1.28430284,\n",
       "        1.29239124, 1.29313372, 1.29376705, 1.29490009, 1.30055682]])"
      ]
     },
     "execution_count": 64,
     "metadata": {},
     "output_type": "execute_result"
    }
   ],
   "source": [
    "# List out neighbor distances\n",
    "dist"
   ]
  },
  {
   "cell_type": "code",
   "execution_count": 65,
   "id": "documented-broadcasting",
   "metadata": {},
   "outputs": [
    {
     "data": {
      "text/plain": [
       "array([[1638,  161,  708,  314, 2034,   76, 1531, 1784, 1011, 2304]],\n",
       "      dtype=int64)"
      ]
     },
     "execution_count": 65,
     "metadata": {},
     "output_type": "execute_result"
    }
   ],
   "source": [
    "# List out neighbor indices\n",
    "ind"
   ]
  },
  {
   "cell_type": "code",
   "execution_count": 66,
   "id": "black-samba",
   "metadata": {
    "scrolled": true
   },
   "outputs": [
    {
     "data": {
      "text/plain": [
       "'When it comes to knocking out pain, no medical strain hits the target quite like Purple Arrow. This hybrid provides effective relief for severe pain while simultaneously inducing a sense of uplift and euphoria. Extremely well-rounded, Purple Arrow is potent without causing that over-medicated feeling of some pain relief strains. The uniqueness of this strain is complemented by its earthy aroma. Fragrant, herbal, and a little sweet, this strain tastes almost as good as it feels. When you need immediate relief and would like to stay off the couch, Purple Arrow is a fantastic choice.'"
      ]
     },
     "execution_count": 66,
     "metadata": {},
     "output_type": "execute_result"
    }
   ],
   "source": [
    "# Compare model results with fake description\n",
    "df[\"Description\"][1638]"
   ]
  },
  {
   "cell_type": "code",
   "execution_count": 29,
   "id": "light-austin",
   "metadata": {},
   "outputs": [],
   "source": [
    "## Pickle objects\n",
    "pickle.dump(effects_list, open('../med-cabinet/static/data/effects_list.pkl', 'wb'))\n",
    "pickle.dump(vect, open('../vectorizer.pkl', 'wb'))\n",
    "pickle.dump(nn, open('../model.pkl', 'wb'))"
   ]
  }
 ],
 "metadata": {
  "kernelspec": {
   "display_name": "Python 3",
   "language": "python",
   "name": "python3"
  },
  "language_info": {
   "codemirror_mode": {
    "name": "ipython",
    "version": 3
   },
   "file_extension": ".py",
   "mimetype": "text/x-python",
   "name": "python",
   "nbconvert_exporter": "python",
   "pygments_lexer": "ipython3",
   "version": "3.8.6"
  }
 },
 "nbformat": 4,
 "nbformat_minor": 5
}
