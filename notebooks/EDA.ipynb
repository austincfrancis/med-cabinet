{
 "cells": [
  {
   "cell_type": "markdown",
   "id": "sublime-auction",
   "metadata": {},
   "source": [
    "# Explore Cannabis Data"
   ]
  },
  {
   "cell_type": "code",
   "execution_count": 1,
   "id": "earned-elite",
   "metadata": {},
   "outputs": [],
   "source": [
    "# Standard Library Imports\n",
    "import pickle\n",
    "\n",
    "# Third-Party Imports\n",
    "import spacy\n",
    "import pandas as pd\n",
    "from sklearn.neighbors import NearestNeighbors\n",
    "from sklearn.feature_extraction.text import TfidfVectorizer"
   ]
  },
  {
   "cell_type": "code",
   "execution_count": 2,
   "id": "introductory-commerce",
   "metadata": {},
   "outputs": [],
   "source": [
    "# Download spaCy model\n",
    "# !python -m spacy download en_core_web_md"
   ]
  },
  {
   "cell_type": "code",
   "execution_count": 3,
   "id": "meaning-collector",
   "metadata": {},
   "outputs": [],
   "source": [
    "# Load spaCy model\n",
    "nlp = spacy.load('en_core_web_md')"
   ]
  },
  {
   "cell_type": "markdown",
   "id": "following-improvement",
   "metadata": {},
   "source": [
    "### Import Data"
   ]
  },
  {
   "cell_type": "code",
   "execution_count": 4,
   "id": "cardiovascular-circle",
   "metadata": {
    "scrolled": true
   },
   "outputs": [
    {
     "data": {
      "text/html": [
       "<div>\n",
       "<style scoped>\n",
       "    .dataframe tbody tr th:only-of-type {\n",
       "        vertical-align: middle;\n",
       "    }\n",
       "\n",
       "    .dataframe tbody tr th {\n",
       "        vertical-align: top;\n",
       "    }\n",
       "\n",
       "    .dataframe thead th {\n",
       "        text-align: right;\n",
       "    }\n",
       "</style>\n",
       "<table border=\"1\" class=\"dataframe\">\n",
       "  <thead>\n",
       "    <tr style=\"text-align: right;\">\n",
       "      <th></th>\n",
       "      <th>Strain</th>\n",
       "      <th>Type</th>\n",
       "      <th>Rating</th>\n",
       "      <th>Effects</th>\n",
       "      <th>Flavor</th>\n",
       "      <th>Description</th>\n",
       "    </tr>\n",
       "  </thead>\n",
       "  <tbody>\n",
       "    <tr>\n",
       "      <th>0</th>\n",
       "      <td>100-Og</td>\n",
       "      <td>hybrid</td>\n",
       "      <td>4.0</td>\n",
       "      <td>Creative,Energetic,Tingly,Euphoric,Relaxed</td>\n",
       "      <td>Earthy,Sweet,Citrus</td>\n",
       "      <td>$100 OG is a 50/50 hybrid strain that packs a ...</td>\n",
       "    </tr>\n",
       "    <tr>\n",
       "      <th>1</th>\n",
       "      <td>98-White-Widow</td>\n",
       "      <td>hybrid</td>\n",
       "      <td>4.7</td>\n",
       "      <td>Relaxed,Aroused,Creative,Happy,Energetic</td>\n",
       "      <td>Flowery,Violet,Diesel</td>\n",
       "      <td>The ‘98 Aloha White Widow is an especially pot...</td>\n",
       "    </tr>\n",
       "    <tr>\n",
       "      <th>2</th>\n",
       "      <td>1024</td>\n",
       "      <td>sativa</td>\n",
       "      <td>4.4</td>\n",
       "      <td>Uplifted,Happy,Relaxed,Energetic,Creative</td>\n",
       "      <td>Spicy/Herbal,Sage,Woody</td>\n",
       "      <td>1024 is a sativa-dominant hybrid bred in Spain...</td>\n",
       "    </tr>\n",
       "    <tr>\n",
       "      <th>3</th>\n",
       "      <td>13-Dawgs</td>\n",
       "      <td>hybrid</td>\n",
       "      <td>4.2</td>\n",
       "      <td>Tingly,Creative,Hungry,Relaxed,Uplifted</td>\n",
       "      <td>Apricot,Citrus,Grapefruit</td>\n",
       "      <td>13 Dawgs is a hybrid of G13 and Chemdawg genet...</td>\n",
       "    </tr>\n",
       "    <tr>\n",
       "      <th>4</th>\n",
       "      <td>24K-Gold</td>\n",
       "      <td>hybrid</td>\n",
       "      <td>4.6</td>\n",
       "      <td>Happy,Relaxed,Euphoric,Uplifted,Talkative</td>\n",
       "      <td>Citrus,Earthy,Orange</td>\n",
       "      <td>Also known as Kosher Tangie, 24k Gold is a 60%...</td>\n",
       "    </tr>\n",
       "  </tbody>\n",
       "</table>\n",
       "</div>"
      ],
      "text/plain": [
       "           Strain    Type  Rating                                     Effects  \\\n",
       "0          100-Og  hybrid     4.0  Creative,Energetic,Tingly,Euphoric,Relaxed   \n",
       "1  98-White-Widow  hybrid     4.7    Relaxed,Aroused,Creative,Happy,Energetic   \n",
       "2            1024  sativa     4.4   Uplifted,Happy,Relaxed,Energetic,Creative   \n",
       "3        13-Dawgs  hybrid     4.2     Tingly,Creative,Hungry,Relaxed,Uplifted   \n",
       "4        24K-Gold  hybrid     4.6   Happy,Relaxed,Euphoric,Uplifted,Talkative   \n",
       "\n",
       "                      Flavor  \\\n",
       "0        Earthy,Sweet,Citrus   \n",
       "1      Flowery,Violet,Diesel   \n",
       "2    Spicy/Herbal,Sage,Woody   \n",
       "3  Apricot,Citrus,Grapefruit   \n",
       "4       Citrus,Earthy,Orange   \n",
       "\n",
       "                                         Description  \n",
       "0  $100 OG is a 50/50 hybrid strain that packs a ...  \n",
       "1  The ‘98 Aloha White Widow is an especially pot...  \n",
       "2  1024 is a sativa-dominant hybrid bred in Spain...  \n",
       "3  13 Dawgs is a hybrid of G13 and Chemdawg genet...  \n",
       "4  Also known as Kosher Tangie, 24k Gold is a 60%...  "
      ]
     },
     "execution_count": 4,
     "metadata": {},
     "output_type": "execute_result"
    }
   ],
   "source": [
    "## Read in data from local csv/\n",
    "# Location if not present: https://www.kaggle.com/kingburrito666/cannabis-strains\n",
    "df = pd.read_csv('cannabis.csv')\n",
    "df.head()"
   ]
  },
  {
   "cell_type": "markdown",
   "id": "confirmed-vitamin",
   "metadata": {},
   "source": [
    "### Wrangle Data"
   ]
  },
  {
   "cell_type": "code",
   "execution_count": 5,
   "id": "respiratory-little",
   "metadata": {},
   "outputs": [],
   "source": [
    "def list_effects(data=df.Effects):\n",
    "    \"\"\"Aggregate all unique effects associated with Effects column of DataFrame.\n",
    "    \n",
    "    Args:\n",
    "        data (pandas.Series): DataFrame column to break down. Default set to 'Effects'\n",
    "    Returns:\n",
    "        effects_list (list): list of all effects under the Effects column\n",
    "    \"\"\"\n",
    "    effects_list = []\n",
    "    \n",
    "    # Split each list of effects and append each, lowered effect to list\n",
    "    for i in range(0, len(df)):\n",
    "        effects = data[i].split(\",\")\n",
    "        for effect in effects:\n",
    "            effects_list.append(effect.lower())\n",
    "    \n",
    "    return set(effects_list)"
   ]
  },
  {
   "cell_type": "code",
   "execution_count": 6,
   "id": "accepted-partner",
   "metadata": {},
   "outputs": [
    {
     "data": {
      "text/plain": [
       "{'aroused',\n",
       " 'creative',\n",
       " 'dry',\n",
       " 'energetic',\n",
       " 'euphoric',\n",
       " 'focused',\n",
       " 'giggly',\n",
       " 'happy',\n",
       " 'hungry',\n",
       " 'mouth',\n",
       " 'none',\n",
       " 'relaxed',\n",
       " 'sleepy',\n",
       " 'talkative',\n",
       " 'tingly',\n",
       " 'uplifted'}"
      ]
     },
     "execution_count": 6,
     "metadata": {},
     "output_type": "execute_result"
    }
   ],
   "source": [
    "# Get unique list of all effects\n",
    "all_effects = list_effects()\n",
    "all_effects"
   ]
  },
  {
   "cell_type": "code",
   "execution_count": 7,
   "id": "assigned-healthcare",
   "metadata": {},
   "outputs": [],
   "source": [
    "# Remove some unnecessary effects\n",
    "bad_effects = ['dry', 'mouth', 'aroused', 'none']\n",
    "for effect in bad_effects:\n",
    "    all_effects.remove(effect)"
   ]
  },
  {
   "cell_type": "code",
   "execution_count": 8,
   "id": "chinese-version",
   "metadata": {},
   "outputs": [],
   "source": [
    "# Capitalize each effect for future presentation\n",
    "effects_list = []\n",
    "\n",
    "for effect in all_effects:\n",
    "    effects_list.append(effect.capitalize())"
   ]
  },
  {
   "cell_type": "code",
   "execution_count": 9,
   "id": "seven-subscription",
   "metadata": {},
   "outputs": [],
   "source": [
    "# Remove rows with NaN description values\n",
    "df = df[~df['Description'].isnull()].reset_index()"
   ]
  },
  {
   "cell_type": "code",
   "execution_count": 10,
   "id": "distinct-presentation",
   "metadata": {},
   "outputs": [],
   "source": [
    "# Remove rows with 'none' description values\n",
    "df = df[~(df.Description == 'None')].reset_index()"
   ]
  },
  {
   "cell_type": "code",
   "execution_count": 11,
   "id": "owned-collect",
   "metadata": {},
   "outputs": [],
   "source": [
    "df = df.drop(columns=['level_0', 'index'])"
   ]
  },
  {
   "cell_type": "code",
   "execution_count": 12,
   "id": "automatic-yahoo",
   "metadata": {},
   "outputs": [
    {
     "data": {
      "text/html": [
       "<div>\n",
       "<style scoped>\n",
       "    .dataframe tbody tr th:only-of-type {\n",
       "        vertical-align: middle;\n",
       "    }\n",
       "\n",
       "    .dataframe tbody tr th {\n",
       "        vertical-align: top;\n",
       "    }\n",
       "\n",
       "    .dataframe thead th {\n",
       "        text-align: right;\n",
       "    }\n",
       "</style>\n",
       "<table border=\"1\" class=\"dataframe\">\n",
       "  <thead>\n",
       "    <tr style=\"text-align: right;\">\n",
       "      <th></th>\n",
       "      <th>Strain</th>\n",
       "      <th>Type</th>\n",
       "      <th>Rating</th>\n",
       "      <th>Effects</th>\n",
       "      <th>Flavor</th>\n",
       "      <th>Description</th>\n",
       "    </tr>\n",
       "  </thead>\n",
       "  <tbody>\n",
       "    <tr>\n",
       "      <th>0</th>\n",
       "      <td>100-Og</td>\n",
       "      <td>hybrid</td>\n",
       "      <td>4.0</td>\n",
       "      <td>Creative,Energetic,Tingly,Euphoric,Relaxed</td>\n",
       "      <td>Earthy,Sweet,Citrus</td>\n",
       "      <td>$100 OG is a 50/50 hybrid strain that packs a ...</td>\n",
       "    </tr>\n",
       "    <tr>\n",
       "      <th>1</th>\n",
       "      <td>98-White-Widow</td>\n",
       "      <td>hybrid</td>\n",
       "      <td>4.7</td>\n",
       "      <td>Relaxed,Aroused,Creative,Happy,Energetic</td>\n",
       "      <td>Flowery,Violet,Diesel</td>\n",
       "      <td>The ‘98 Aloha White Widow is an especially pot...</td>\n",
       "    </tr>\n",
       "    <tr>\n",
       "      <th>2</th>\n",
       "      <td>1024</td>\n",
       "      <td>sativa</td>\n",
       "      <td>4.4</td>\n",
       "      <td>Uplifted,Happy,Relaxed,Energetic,Creative</td>\n",
       "      <td>Spicy/Herbal,Sage,Woody</td>\n",
       "      <td>1024 is a sativa-dominant hybrid bred in Spain...</td>\n",
       "    </tr>\n",
       "    <tr>\n",
       "      <th>3</th>\n",
       "      <td>13-Dawgs</td>\n",
       "      <td>hybrid</td>\n",
       "      <td>4.2</td>\n",
       "      <td>Tingly,Creative,Hungry,Relaxed,Uplifted</td>\n",
       "      <td>Apricot,Citrus,Grapefruit</td>\n",
       "      <td>13 Dawgs is a hybrid of G13 and Chemdawg genet...</td>\n",
       "    </tr>\n",
       "    <tr>\n",
       "      <th>4</th>\n",
       "      <td>24K-Gold</td>\n",
       "      <td>hybrid</td>\n",
       "      <td>4.6</td>\n",
       "      <td>Happy,Relaxed,Euphoric,Uplifted,Talkative</td>\n",
       "      <td>Citrus,Earthy,Orange</td>\n",
       "      <td>Also known as Kosher Tangie, 24k Gold is a 60%...</td>\n",
       "    </tr>\n",
       "    <tr>\n",
       "      <th>...</th>\n",
       "      <td>...</td>\n",
       "      <td>...</td>\n",
       "      <td>...</td>\n",
       "      <td>...</td>\n",
       "      <td>...</td>\n",
       "      <td>...</td>\n",
       "    </tr>\n",
       "    <tr>\n",
       "      <th>2309</th>\n",
       "      <td>Zeus-Og</td>\n",
       "      <td>hybrid</td>\n",
       "      <td>4.7</td>\n",
       "      <td>Happy,Uplifted,Relaxed,Euphoric,Energetic</td>\n",
       "      <td>Earthy,Woody,Pine</td>\n",
       "      <td>Zeus OG is a hybrid cross between Pineapple OG...</td>\n",
       "    </tr>\n",
       "    <tr>\n",
       "      <th>2310</th>\n",
       "      <td>Zkittlez</td>\n",
       "      <td>indica</td>\n",
       "      <td>4.6</td>\n",
       "      <td>Relaxed,Happy,Euphoric,Uplifted,Sleepy</td>\n",
       "      <td>Sweet,Berry,Grape</td>\n",
       "      <td>Zkittlez is an indica-dominant mix of Grape Ap...</td>\n",
       "    </tr>\n",
       "    <tr>\n",
       "      <th>2311</th>\n",
       "      <td>Zombie-Kush</td>\n",
       "      <td>indica</td>\n",
       "      <td>5.0</td>\n",
       "      <td>Relaxed,Sleepy,Talkative,Euphoric,Happy</td>\n",
       "      <td>Earthy,Sweet,Spicy/Herbal</td>\n",
       "      <td>Zombie Kush by Ripper Seeds comes from two dif...</td>\n",
       "    </tr>\n",
       "    <tr>\n",
       "      <th>2312</th>\n",
       "      <td>Zombie-Og</td>\n",
       "      <td>indica</td>\n",
       "      <td>4.4</td>\n",
       "      <td>Relaxed,Sleepy,Euphoric,Happy,Hungry</td>\n",
       "      <td>Sweet,Earthy,Pungent</td>\n",
       "      <td>If you’re looking to transform into a flesh-ea...</td>\n",
       "    </tr>\n",
       "    <tr>\n",
       "      <th>2313</th>\n",
       "      <td>Zoom-Pie</td>\n",
       "      <td>indica</td>\n",
       "      <td>4.6</td>\n",
       "      <td>Hungry,Relaxed,Uplifted,Happy,Sleepy</td>\n",
       "      <td>Berry,Earthy,Pungent</td>\n",
       "      <td>Zoom Pie (also known as Zombie Pie) is a heavy...</td>\n",
       "    </tr>\n",
       "  </tbody>\n",
       "</table>\n",
       "<p>2314 rows × 6 columns</p>\n",
       "</div>"
      ],
      "text/plain": [
       "              Strain    Type  Rating  \\\n",
       "0             100-Og  hybrid     4.0   \n",
       "1     98-White-Widow  hybrid     4.7   \n",
       "2               1024  sativa     4.4   \n",
       "3           13-Dawgs  hybrid     4.2   \n",
       "4           24K-Gold  hybrid     4.6   \n",
       "...              ...     ...     ...   \n",
       "2309         Zeus-Og  hybrid     4.7   \n",
       "2310        Zkittlez  indica     4.6   \n",
       "2311     Zombie-Kush  indica     5.0   \n",
       "2312       Zombie-Og  indica     4.4   \n",
       "2313        Zoom-Pie  indica     4.6   \n",
       "\n",
       "                                         Effects                     Flavor  \\\n",
       "0     Creative,Energetic,Tingly,Euphoric,Relaxed        Earthy,Sweet,Citrus   \n",
       "1       Relaxed,Aroused,Creative,Happy,Energetic      Flowery,Violet,Diesel   \n",
       "2      Uplifted,Happy,Relaxed,Energetic,Creative    Spicy/Herbal,Sage,Woody   \n",
       "3        Tingly,Creative,Hungry,Relaxed,Uplifted  Apricot,Citrus,Grapefruit   \n",
       "4      Happy,Relaxed,Euphoric,Uplifted,Talkative       Citrus,Earthy,Orange   \n",
       "...                                          ...                        ...   \n",
       "2309   Happy,Uplifted,Relaxed,Euphoric,Energetic          Earthy,Woody,Pine   \n",
       "2310      Relaxed,Happy,Euphoric,Uplifted,Sleepy          Sweet,Berry,Grape   \n",
       "2311     Relaxed,Sleepy,Talkative,Euphoric,Happy  Earthy,Sweet,Spicy/Herbal   \n",
       "2312        Relaxed,Sleepy,Euphoric,Happy,Hungry       Sweet,Earthy,Pungent   \n",
       "2313        Hungry,Relaxed,Uplifted,Happy,Sleepy       Berry,Earthy,Pungent   \n",
       "\n",
       "                                            Description  \n",
       "0     $100 OG is a 50/50 hybrid strain that packs a ...  \n",
       "1     The ‘98 Aloha White Widow is an especially pot...  \n",
       "2     1024 is a sativa-dominant hybrid bred in Spain...  \n",
       "3     13 Dawgs is a hybrid of G13 and Chemdawg genet...  \n",
       "4     Also known as Kosher Tangie, 24k Gold is a 60%...  \n",
       "...                                                 ...  \n",
       "2309  Zeus OG is a hybrid cross between Pineapple OG...  \n",
       "2310  Zkittlez is an indica-dominant mix of Grape Ap...  \n",
       "2311  Zombie Kush by Ripper Seeds comes from two dif...  \n",
       "2312  If you’re looking to transform into a flesh-ea...  \n",
       "2313  Zoom Pie (also known as Zombie Pie) is a heavy...  \n",
       "\n",
       "[2314 rows x 6 columns]"
      ]
     },
     "execution_count": 12,
     "metadata": {},
     "output_type": "execute_result"
    }
   ],
   "source": [
    "df"
   ]
  },
  {
   "cell_type": "code",
   "execution_count": 13,
   "id": "amino-hepatitis",
   "metadata": {},
   "outputs": [],
   "source": [
    "df.to_csv('new_cannabis.csv')"
   ]
  },
  {
   "cell_type": "markdown",
   "id": "universal-transformation",
   "metadata": {},
   "source": [
    "### Natural Language Processing"
   ]
  },
  {
   "cell_type": "code",
   "execution_count": 14,
   "id": "parental-thanks",
   "metadata": {},
   "outputs": [],
   "source": [
    "def preprocessor(doc):\n",
    "    \"\"\"Preprocess input text data using spaCy functionality.\n",
    "\n",
    "    Args:\n",
    "        doc (list): List of input data to be processed\n",
    "    Returns:\n",
    "        new_text (str): New processed document\n",
    "    \"\"\"\n",
    "    doc = nlp(doc)\n",
    "    new_text = \" \".join([token.lemma_.lower() for token in doc if not\n",
    "                         token.is_stop and not token.is_punct])\n",
    "\n",
    "    return new_text\n",
    "\n",
    "# Apply preprocess to data and save to new column\n",
    "df['Processed'] = df['Description'].apply(preprocessor)"
   ]
  },
  {
   "cell_type": "code",
   "execution_count": 15,
   "id": "exotic-diary",
   "metadata": {},
   "outputs": [],
   "source": [
    "# Instantiate vectorizer and fit it with processed data\n",
    "vect = TfidfVectorizer(ngram_range=(1, 2))\n",
    "vect.fit(df['Processed'])\n",
    "\n",
    "# Transform processed data for fitting of nn model\n",
    "dtm = vect.transform(df['Processed'])"
   ]
  },
  {
   "cell_type": "code",
   "execution_count": 16,
   "id": "creative-bhutan",
   "metadata": {},
   "outputs": [
    {
     "name": "stderr",
     "output_type": "stream",
     "text": [
      "c:\\users\\dakot\\.virtualenvs\\med-cabinet-ugeiz7jg\\lib\\site-packages\\sklearn\\neighbors\\_base.py:462: UserWarning: cannot use tree with sparse input: using brute force\n",
      "  warnings.warn(\"cannot use tree with sparse input: \"\n"
     ]
    },
    {
     "data": {
      "text/plain": [
       "NearestNeighbors(algorithm='kd_tree', n_jobs=-1, n_neighbors=50)"
      ]
     },
     "execution_count": 16,
     "metadata": {},
     "output_type": "execute_result"
    }
   ],
   "source": [
    "# Instatiate model and fit it with vectorized data\n",
    "nn = NearestNeighbors(algorithm='kd_tree', n_neighbors=50, n_jobs=-1)\n",
    "nn.fit(dtm)"
   ]
  },
  {
   "cell_type": "code",
   "execution_count": 17,
   "id": "dominant-knowing",
   "metadata": {},
   "outputs": [],
   "source": [
    "# Create fake description to test model performance\n",
    "my_desc = \"I want something that tastes fruity and is very potent. I need something that will help with pain relief and help me feel calm.\"\n",
    "\n",
    "# Process and vectorize fake description\n",
    "my_desc = preprocessor(my_desc)\n",
    "my_desc_vect = vect.transform([my_desc])"
   ]
  },
  {
   "cell_type": "code",
   "execution_count": 18,
   "id": "horizontal-karaoke",
   "metadata": {},
   "outputs": [],
   "source": [
    "# Find nearest neighbors of fake description\n",
    "dist, ind = nn.kneighbors(my_desc_vect)"
   ]
  },
  {
   "cell_type": "code",
   "execution_count": 19,
   "id": "skilled-warner",
   "metadata": {},
   "outputs": [
    {
     "data": {
      "text/plain": [
       "array([[1.32774571, 1.34132261, 1.34247405, 1.34402609, 1.34465308,\n",
       "        1.34582559, 1.34852451, 1.35131796, 1.35575076, 1.36400471,\n",
       "        1.36480953, 1.36595683, 1.3688508 , 1.37029087, 1.37180431,\n",
       "        1.37248719, 1.37293696, 1.37312578, 1.37362751, 1.37373564,\n",
       "        1.37460432, 1.37627892, 1.37635625, 1.37731254, 1.37788522,\n",
       "        1.3783078 , 1.37890378, 1.37892422, 1.38002041, 1.38046787,\n",
       "        1.380787  , 1.38086769, 1.38164519, 1.38180503, 1.38183064,\n",
       "        1.38190182, 1.38335915, 1.38362468, 1.38370642, 1.38398492,\n",
       "        1.3840598 , 1.38407784, 1.38429949, 1.38439867, 1.38457267,\n",
       "        1.38482377, 1.38535195, 1.38597194, 1.38623102, 1.38624107]])"
      ]
     },
     "execution_count": 19,
     "metadata": {},
     "output_type": "execute_result"
    }
   ],
   "source": [
    "# List out neighbor distances\n",
    "dist"
   ]
  },
  {
   "cell_type": "code",
   "execution_count": 20,
   "id": "documented-broadcasting",
   "metadata": {},
   "outputs": [
    {
     "data": {
      "text/plain": [
       "array([[1011,   11, 1657,  986,  476,  172,  276, 1160, 1638, 1784,  669,\n",
       "         161, 1521,  708, 2034, 1364, 1053, 1601,   76,  314, 1531,  972,\n",
       "         867, 2304,   79,  472,  892, 1325,  192,  165, 2282, 1961,    0,\n",
       "        1620, 2073, 1585, 2299, 1028,   46, 1849, 1492, 1202, 1801,  428,\n",
       "         712,  921,  336,  817,  125, 1308]], dtype=int64)"
      ]
     },
     "execution_count": 20,
     "metadata": {},
     "output_type": "execute_result"
    }
   ],
   "source": [
    "# List out neighbor indices\n",
    "ind"
   ]
  },
  {
   "cell_type": "code",
   "execution_count": 23,
   "id": "black-samba",
   "metadata": {
    "scrolled": true
   },
   "outputs": [
    {
     "data": {
      "text/plain": [
       "'501st OG, bred by Rare Dankness, is an indica-dominant hybrid that crosses Skywalker OG with Rare Dankness #1. The colorful flowers are tinged with a wide spectrum of green, blue, red, and purple hues that give off a deep piney kush aroma that mixes with the sweetness of grape flavors. The potent indica effects make 501st OG a great nighttime strain to help with pain relief and trouble sleeping.'"
      ]
     },
     "execution_count": 23,
     "metadata": {},
     "output_type": "execute_result"
    }
   ],
   "source": [
    "# Compare model results with fake description\n",
    "df[\"Description\"][11]"
   ]
  },
  {
   "cell_type": "code",
   "execution_count": 24,
   "id": "light-austin",
   "metadata": {},
   "outputs": [],
   "source": [
    "## Pickle objects\n",
    "pickle.dump(effects_list, open('../med-cabinet/static/data/effects_list.pkl', 'wb'))\n",
    "pickle.dump(vect, open('../vectorizer.pkl', 'wb'))\n",
    "pickle.dump(nn, open('../model.pkl', 'wb'))"
   ]
  }
 ],
 "metadata": {
  "kernelspec": {
   "display_name": "Python 3",
   "language": "python",
   "name": "python3"
  },
  "language_info": {
   "codemirror_mode": {
    "name": "ipython",
    "version": 3
   },
   "file_extension": ".py",
   "mimetype": "text/x-python",
   "name": "python",
   "nbconvert_exporter": "python",
   "pygments_lexer": "ipython3",
   "version": "3.8.6"
  }
 },
 "nbformat": 4,
 "nbformat_minor": 5
}
