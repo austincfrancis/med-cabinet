{
 "cells": [
  {
   "cell_type": "markdown",
   "id": "sublime-auction",
   "metadata": {},
   "source": [
    "# Explore Cannabis Data"
   ]
  },
  {
   "cell_type": "code",
   "execution_count": 2,
   "id": "earned-elite",
   "metadata": {},
   "outputs": [],
   "source": [
    "# ALL IMPORTS\n",
    "import pandas as pd\n",
    "import pickle\n",
    "import spacy\n",
    "from sklearn.neighbors import NearestNeighbors\n",
    "from sklearn.feature_extraction.text import TfidfVectorizer\n",
    "\n",
    "nlp = spacy.load(\"en_core_web_md\")"
   ]
  },
  {
   "cell_type": "code",
   "execution_count": 2,
   "id": "introductory-commerce",
   "metadata": {
    "collapsed": true
   },
   "outputs": [
    {
     "name": "stdout",
     "output_type": "stream",
     "text": [
      "Collecting en_core_web_md==2.3.1\n",
      "  Downloading https://github.com/explosion/spacy-models/releases/download/en_core_web_md-2.3.1/en_core_web_md-2.3.1.tar.gz (50.8 MB)\n",
      "Requirement already satisfied: spacy<2.4.0,>=2.3.0 in c:\\users\\dakot\\.virtualenvs\\med-cabinet--gldo00z\\lib\\site-packages (from en_core_web_md==2.3.1) (2.3.5)\n",
      "Requirement already satisfied: preshed<3.1.0,>=3.0.2 in c:\\users\\dakot\\.virtualenvs\\med-cabinet--gldo00z\\lib\\site-packages (from spacy<2.4.0,>=2.3.0->en_core_web_md==2.3.1) (3.0.5)\n",
      "Requirement already satisfied: catalogue<1.1.0,>=0.0.7 in c:\\users\\dakot\\.virtualenvs\\med-cabinet--gldo00z\\lib\\site-packages (from spacy<2.4.0,>=2.3.0->en_core_web_md==2.3.1) (1.0.0)\n",
      "Requirement already satisfied: tqdm<5.0.0,>=4.38.0 in c:\\users\\dakot\\.virtualenvs\\med-cabinet--gldo00z\\lib\\site-packages (from spacy<2.4.0,>=2.3.0->en_core_web_md==2.3.1) (4.56.0)\n",
      "Requirement already satisfied: requests<3.0.0,>=2.13.0 in c:\\users\\dakot\\.virtualenvs\\med-cabinet--gldo00z\\lib\\site-packages (from spacy<2.4.0,>=2.3.0->en_core_web_md==2.3.1) (2.25.1)\n",
      "Requirement already satisfied: thinc<7.5.0,>=7.4.1 in c:\\users\\dakot\\.virtualenvs\\med-cabinet--gldo00z\\lib\\site-packages (from spacy<2.4.0,>=2.3.0->en_core_web_md==2.3.1) (7.4.5)\n",
      "Requirement already satisfied: plac<1.2.0,>=0.9.6 in c:\\users\\dakot\\.virtualenvs\\med-cabinet--gldo00z\\lib\\site-packages (from spacy<2.4.0,>=2.3.0->en_core_web_md==2.3.1) (1.1.3)\n",
      "Requirement already satisfied: blis<0.8.0,>=0.4.0 in c:\\users\\dakot\\.virtualenvs\\med-cabinet--gldo00z\\lib\\site-packages (from spacy<2.4.0,>=2.3.0->en_core_web_md==2.3.1) (0.7.4)\n",
      "Requirement already satisfied: murmurhash<1.1.0,>=0.28.0 in c:\\users\\dakot\\.virtualenvs\\med-cabinet--gldo00z\\lib\\site-packages (from spacy<2.4.0,>=2.3.0->en_core_web_md==2.3.1) (1.0.5)\n",
      "Requirement already satisfied: srsly<1.1.0,>=1.0.2 in c:\\users\\dakot\\.virtualenvs\\med-cabinet--gldo00z\\lib\\site-packages (from spacy<2.4.0,>=2.3.0->en_core_web_md==2.3.1) (1.0.5)\n",
      "Requirement already satisfied: setuptools in c:\\users\\dakot\\.virtualenvs\\med-cabinet--gldo00z\\lib\\site-packages (from spacy<2.4.0,>=2.3.0->en_core_web_md==2.3.1) (51.0.0)\n",
      "Requirement already satisfied: numpy>=1.15.0 in c:\\users\\dakot\\.virtualenvs\\med-cabinet--gldo00z\\lib\\site-packages (from spacy<2.4.0,>=2.3.0->en_core_web_md==2.3.1) (1.19.3)\n",
      "Requirement already satisfied: wasabi<1.1.0,>=0.4.0 in c:\\users\\dakot\\.virtualenvs\\med-cabinet--gldo00z\\lib\\site-packages (from spacy<2.4.0,>=2.3.0->en_core_web_md==2.3.1) (0.8.1)\n",
      "Requirement already satisfied: cymem<2.1.0,>=2.0.2 in c:\\users\\dakot\\.virtualenvs\\med-cabinet--gldo00z\\lib\\site-packages (from spacy<2.4.0,>=2.3.0->en_core_web_md==2.3.1) (2.0.5)\n",
      "Requirement already satisfied: chardet<5,>=3.0.2 in c:\\users\\dakot\\.virtualenvs\\med-cabinet--gldo00z\\lib\\site-packages (from requests<3.0.0,>=2.13.0->spacy<2.4.0,>=2.3.0->en_core_web_md==2.3.1) (4.0.0)\n",
      "Requirement already satisfied: urllib3<1.27,>=1.21.1 in c:\\users\\dakot\\.virtualenvs\\med-cabinet--gldo00z\\lib\\site-packages (from requests<3.0.0,>=2.13.0->spacy<2.4.0,>=2.3.0->en_core_web_md==2.3.1) (1.26.3)\n",
      "Requirement already satisfied: idna<3,>=2.5 in c:\\users\\dakot\\.virtualenvs\\med-cabinet--gldo00z\\lib\\site-packages (from requests<3.0.0,>=2.13.0->spacy<2.4.0,>=2.3.0->en_core_web_md==2.3.1) (2.10)\n",
      "Requirement already satisfied: certifi>=2017.4.17 in c:\\users\\dakot\\.virtualenvs\\med-cabinet--gldo00z\\lib\\site-packages (from requests<3.0.0,>=2.13.0->spacy<2.4.0,>=2.3.0->en_core_web_md==2.3.1) (2020.12.5)\n",
      "[+] Download and installation successful\n",
      "You can now load the model via spacy.load('en_core_web_md')\n"
     ]
    }
   ],
   "source": [
    "!python -m spacy download en_core_web_md"
   ]
  },
  {
   "cell_type": "markdown",
   "id": "following-improvement",
   "metadata": {},
   "source": [
    "### Import Data"
   ]
  },
  {
   "cell_type": "code",
   "execution_count": 28,
   "id": "cardiovascular-circle",
   "metadata": {
    "scrolled": true
   },
   "outputs": [
    {
     "data": {
      "text/html": [
       "<div>\n",
       "<style scoped>\n",
       "    .dataframe tbody tr th:only-of-type {\n",
       "        vertical-align: middle;\n",
       "    }\n",
       "\n",
       "    .dataframe tbody tr th {\n",
       "        vertical-align: top;\n",
       "    }\n",
       "\n",
       "    .dataframe thead th {\n",
       "        text-align: right;\n",
       "    }\n",
       "</style>\n",
       "<table border=\"1\" class=\"dataframe\">\n",
       "  <thead>\n",
       "    <tr style=\"text-align: right;\">\n",
       "      <th></th>\n",
       "      <th>Strain</th>\n",
       "      <th>Type</th>\n",
       "      <th>Rating</th>\n",
       "      <th>Effects</th>\n",
       "      <th>Flavor</th>\n",
       "      <th>Description</th>\n",
       "    </tr>\n",
       "  </thead>\n",
       "  <tbody>\n",
       "    <tr>\n",
       "      <th>0</th>\n",
       "      <td>100-Og</td>\n",
       "      <td>hybrid</td>\n",
       "      <td>4.0</td>\n",
       "      <td>Creative,Energetic,Tingly,Euphoric,Relaxed</td>\n",
       "      <td>Earthy,Sweet,Citrus</td>\n",
       "      <td>$100 OG is a 50/50 hybrid strain that packs a ...</td>\n",
       "    </tr>\n",
       "    <tr>\n",
       "      <th>1</th>\n",
       "      <td>98-White-Widow</td>\n",
       "      <td>hybrid</td>\n",
       "      <td>4.7</td>\n",
       "      <td>Relaxed,Aroused,Creative,Happy,Energetic</td>\n",
       "      <td>Flowery,Violet,Diesel</td>\n",
       "      <td>The ‘98 Aloha White Widow is an especially pot...</td>\n",
       "    </tr>\n",
       "    <tr>\n",
       "      <th>2</th>\n",
       "      <td>1024</td>\n",
       "      <td>sativa</td>\n",
       "      <td>4.4</td>\n",
       "      <td>Uplifted,Happy,Relaxed,Energetic,Creative</td>\n",
       "      <td>Spicy/Herbal,Sage,Woody</td>\n",
       "      <td>1024 is a sativa-dominant hybrid bred in Spain...</td>\n",
       "    </tr>\n",
       "    <tr>\n",
       "      <th>3</th>\n",
       "      <td>13-Dawgs</td>\n",
       "      <td>hybrid</td>\n",
       "      <td>4.2</td>\n",
       "      <td>Tingly,Creative,Hungry,Relaxed,Uplifted</td>\n",
       "      <td>Apricot,Citrus,Grapefruit</td>\n",
       "      <td>13 Dawgs is a hybrid of G13 and Chemdawg genet...</td>\n",
       "    </tr>\n",
       "    <tr>\n",
       "      <th>4</th>\n",
       "      <td>24K-Gold</td>\n",
       "      <td>hybrid</td>\n",
       "      <td>4.6</td>\n",
       "      <td>Happy,Relaxed,Euphoric,Uplifted,Talkative</td>\n",
       "      <td>Citrus,Earthy,Orange</td>\n",
       "      <td>Also known as Kosher Tangie, 24k Gold is a 60%...</td>\n",
       "    </tr>\n",
       "  </tbody>\n",
       "</table>\n",
       "</div>"
      ],
      "text/plain": [
       "           Strain    Type  Rating                                     Effects  \\\n",
       "0          100-Og  hybrid     4.0  Creative,Energetic,Tingly,Euphoric,Relaxed   \n",
       "1  98-White-Widow  hybrid     4.7    Relaxed,Aroused,Creative,Happy,Energetic   \n",
       "2            1024  sativa     4.4   Uplifted,Happy,Relaxed,Energetic,Creative   \n",
       "3        13-Dawgs  hybrid     4.2     Tingly,Creative,Hungry,Relaxed,Uplifted   \n",
       "4        24K-Gold  hybrid     4.6   Happy,Relaxed,Euphoric,Uplifted,Talkative   \n",
       "\n",
       "                      Flavor  \\\n",
       "0        Earthy,Sweet,Citrus   \n",
       "1      Flowery,Violet,Diesel   \n",
       "2    Spicy/Herbal,Sage,Woody   \n",
       "3  Apricot,Citrus,Grapefruit   \n",
       "4       Citrus,Earthy,Orange   \n",
       "\n",
       "                                         Description  \n",
       "0  $100 OG is a 50/50 hybrid strain that packs a ...  \n",
       "1  The ‘98 Aloha White Widow is an especially pot...  \n",
       "2  1024 is a sativa-dominant hybrid bred in Spain...  \n",
       "3  13 Dawgs is a hybrid of G13 and Chemdawg genet...  \n",
       "4  Also known as Kosher Tangie, 24k Gold is a 60%...  "
      ]
     },
     "execution_count": 28,
     "metadata": {},
     "output_type": "execute_result"
    }
   ],
   "source": [
    "# Read in data\n",
    "df = pd.read_csv('cannabis.csv')\n",
    "df.head()"
   ]
  },
  {
   "cell_type": "markdown",
   "id": "confirmed-vitamin",
   "metadata": {},
   "source": [
    "### Wrangle Data"
   ]
  },
  {
   "cell_type": "code",
   "execution_count": 4,
   "id": "respiratory-little",
   "metadata": {},
   "outputs": [],
   "source": [
    "def list_effects(data=df.Effects):\n",
    "    \"\"\"Aggregate all effects associated with Effects column of DataFrame.\n",
    "    \n",
    "    Args:\n",
    "        data (pandas.Series): DataFrame column to break down. Default set to 'Effects'\n",
    "    Returns:\n",
    "        effects_list (list): list of all effects under the Effects column\n",
    "    \"\"\"\n",
    "    effects_list = []\n",
    "    \n",
    "    # Split each list of effects and append each, lowered effect to list\n",
    "    for i in range(0, len(df)):\n",
    "        effects = data[i].split(\",\")\n",
    "        for effect in effects:\n",
    "            effects_list.append(effect.lower())\n",
    "    \n",
    "    return effects_list"
   ]
  },
  {
   "cell_type": "code",
   "execution_count": 5,
   "id": "accepted-partner",
   "metadata": {},
   "outputs": [
    {
     "data": {
      "text/plain": [
       "{'aroused',\n",
       " 'creative',\n",
       " 'dry',\n",
       " 'energetic',\n",
       " 'euphoric',\n",
       " 'focused',\n",
       " 'giggly',\n",
       " 'happy',\n",
       " 'hungry',\n",
       " 'mouth',\n",
       " 'none',\n",
       " 'relaxed',\n",
       " 'sleepy',\n",
       " 'talkative',\n",
       " 'tingly',\n",
       " 'uplifted'}"
      ]
     },
     "execution_count": 5,
     "metadata": {},
     "output_type": "execute_result"
    }
   ],
   "source": [
    "# Get unique list of all effects\n",
    "all_effects = set(list_effects())\n",
    "all_effects"
   ]
  },
  {
   "cell_type": "code",
   "execution_count": 30,
   "id": "seven-subscription",
   "metadata": {},
   "outputs": [],
   "source": [
    "# Remove rows with NaN description values\n",
    "df = df[~df[\"Description\"].isnull()].reset_index()"
   ]
  },
  {
   "cell_type": "code",
   "execution_count": 35,
   "id": "distinct-presentation",
   "metadata": {},
   "outputs": [],
   "source": [
    "# Remove rows with 'none' values from description\n",
    "df = df[~(df.Description == 'None')].reset_index()"
   ]
  },
  {
   "cell_type": "markdown",
   "id": "universal-transformation",
   "metadata": {},
   "source": [
    "### Natural Language Processing"
   ]
  },
  {
   "cell_type": "code",
   "execution_count": 9,
   "id": "parental-thanks",
   "metadata": {},
   "outputs": [],
   "source": [
    "def preprocessor(doc):\n",
    "    doc = nlp(doc)\n",
    "    \n",
    "    return \" \".join([token.lemma_.lower() for token in doc if not token.is_stop and not token.is_punct])"
   ]
  },
  {
   "cell_type": "code",
   "execution_count": 36,
   "id": "exotic-diary",
   "metadata": {},
   "outputs": [],
   "source": [
    "vect = TfidfVectorizer(preprocessor=preprocessor)\n",
    "vect.fit(df['Description'])\n",
    "dtm = vect.transform(df['Description'])"
   ]
  },
  {
   "cell_type": "code",
   "execution_count": 37,
   "id": "driving-container",
   "metadata": {},
   "outputs": [],
   "source": [
    "my_desc = [\"I want something that tastes fruity and is very potent. I need something that will help with pain relief and help me feel calm.\"]\n",
    "my_desc_vect = vect.transform(my_desc)"
   ]
  },
  {
   "cell_type": "code",
   "execution_count": 38,
   "id": "creative-bhutan",
   "metadata": {},
   "outputs": [
    {
     "name": "stderr",
     "output_type": "stream",
     "text": [
      "c:\\users\\dakot\\.virtualenvs\\med-cabinet--gldo00z\\lib\\site-packages\\sklearn\\neighbors\\_base.py:462: UserWarning: cannot use tree with sparse input: using brute force\n",
      "  warnings.warn(\"cannot use tree with sparse input: \"\n"
     ]
    },
    {
     "data": {
      "text/plain": [
       "NearestNeighbors(algorithm='kd_tree', n_jobs=-1, n_neighbors=10)"
      ]
     },
     "execution_count": 38,
     "metadata": {},
     "output_type": "execute_result"
    }
   ],
   "source": [
    "### Model\n",
    "nn = NearestNeighbors(algorithm='kd_tree', n_neighbors=10, n_jobs=-1)\n",
    "nn.fit(dtm)"
   ]
  },
  {
   "cell_type": "code",
   "execution_count": 39,
   "id": "horizontal-karaoke",
   "metadata": {},
   "outputs": [],
   "source": [
    "dist, ind = nn.kneighbors(my_desc_vect)"
   ]
  },
  {
   "cell_type": "code",
   "execution_count": 40,
   "id": "skilled-warner",
   "metadata": {},
   "outputs": [
    {
     "data": {
      "text/plain": [
       "array([[1.26576484, 1.26750438, 1.26808735, 1.28384111, 1.28600223,\n",
       "        1.28867392, 1.2946406 , 1.29605286, 1.29626243, 1.29645915]])"
      ]
     },
     "execution_count": 40,
     "metadata": {},
     "output_type": "execute_result"
    }
   ],
   "source": [
    "dist"
   ]
  },
  {
   "cell_type": "code",
   "execution_count": 41,
   "id": "documented-broadcasting",
   "metadata": {},
   "outputs": [
    {
     "data": {
      "text/plain": [
       "array([[ 161,  708, 1638,  314, 2034, 1531,   76, 1011, 1784, 2304]],\n",
       "      dtype=int64)"
      ]
     },
     "execution_count": 41,
     "metadata": {},
     "output_type": "execute_result"
    }
   ],
   "source": [
    "ind"
   ]
  },
  {
   "cell_type": "code",
   "execution_count": 43,
   "id": "black-samba",
   "metadata": {
    "scrolled": true
   },
   "outputs": [
    {
     "data": {
      "text/plain": [
       "'Dreamer’s Glass is a hybrid cannabis strain that delivers dreamy euphoric effects alongside heavy body effects that let you settle deeply in relaxation. This strain is great for patients needing potent relief of nausea and mild pain, but expect to feel more and more anchored to your couch as you increase the dose.'"
      ]
     },
     "execution_count": 43,
     "metadata": {},
     "output_type": "execute_result"
    }
   ],
   "source": [
    "df[\"Description\"][708]"
   ]
  },
  {
   "cell_type": "code",
   "execution_count": 45,
   "id": "light-austin",
   "metadata": {},
   "outputs": [],
   "source": [
    "## Pickle objects\n",
    "pickle.dump(all_effects, open('../med-cabinet/static/data/effects_list.pkl', 'wb'))\n",
    "pickle.dump(vect, open('../vectorizer.pkl', 'wb'))\n",
    "pickle.dump(nn, open('../model.pkl', 'wb'))"
   ]
  }
 ],
 "metadata": {
  "kernelspec": {
   "display_name": "Python 3",
   "language": "python",
   "name": "python3"
  },
  "language_info": {
   "codemirror_mode": {
    "name": "ipython",
    "version": 3
   },
   "file_extension": ".py",
   "mimetype": "text/x-python",
   "name": "python",
   "nbconvert_exporter": "python",
   "pygments_lexer": "ipython3",
   "version": "3.8.6"
  }
 },
 "nbformat": 4,
 "nbformat_minor": 5
}
